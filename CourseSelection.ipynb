{
 "cells": [
  {
   "cell_type": "markdown",
   "metadata": {},
   "source": [
    "# 选课系统\n",
    "\n",
    "tools\n",
    "1. 过滤课程tool：过滤选修，必修\n",
    "2. 插入用户名称和对应课程tool\n",
    "3. 删除用户名称和对应课程tool\n",
    "\n",
    "agent行为\n",
    "1. agent 根据需要选择课程，且将和用户描述比较相似的排在前面\n",
    "2. agent 做好选课和删除课程名称匹配，用户不必说出课程全名\n",
    "3. agent "
   ]
  },
  {
   "cell_type": "markdown",
   "metadata": {},
   "source": [
    "## 数据存储\n",
    "\n",
    "存储课程"
   ]
  },
  {
   "cell_type": "code",
   "execution_count": 2,
   "metadata": {},
   "outputs": [],
   "source": [
    "course_dict = {\n",
    "    \"required\":[\n",
    "        \"software energening\",\n",
    "        \"machine learning\",\n",
    "        \"math\",\n",
    "        \"physical\"\n",
    "    ],\n",
    "    \"elective\":[\n",
    "        \"tennis\",\n",
    "        \"table tennis\",\n",
    "        \"football\"\n",
    "    ]\n",
    "}"
   ]
  },
  {
   "cell_type": "code",
   "execution_count": 5,
   "metadata": {},
   "outputs": [],
   "source": [
    "from langchain.agents import tool\n",
    "\n",
    "\n",
    "# 过滤课程tool，llm输入课程类型，过滤对应类型结果\n",
    "@tool\n",
    "def filter_course(course_type:str)->str:\n",
    "    \"\"\"\n",
    "        return course list, use this for filtering courses,\n",
    "        there two kinds of courses: required , elective\n",
    "        the input is string type and the content should be required or elective\n",
    "        the function will return the course list\n",
    "    \"\"\"\n",
    "    return course_dict[course_type]"
   ]
  },
  {
   "cell_type": "markdown",
   "metadata": {},
   "source": [
    "## 初始化llm"
   ]
  },
  {
   "cell_type": "code",
   "execution_count": 3,
   "metadata": {},
   "outputs": [
    {
     "name": "stderr",
     "output_type": "stream",
     "text": [
      "/var/folders/42/s_p9v7315ks8j7qscyd35d5c0000gn/T/ipykernel_38095/865272866.py:9: LangChainDeprecationWarning: The class `ChatOpenAI` was deprecated in LangChain 0.0.10 and will be removed in 1.0. An updated version of the class exists in the :class:`~langchain-openai package and should be used instead. To use it run `pip install -U :class:`~langchain-openai` and import as `from :class:`~langchain_openai import ChatOpenAI``.\n",
      "  llm = ChatOpenAI(temperature=0, model=llm_model)\n"
     ]
    }
   ],
   "source": [
    "# 初始化llm\n",
    "from langchain.chat_models import ChatOpenAI\n",
    "import os\n",
    "llm_model = \"Qwen2.5-14B\"\n",
    "os.environ[\"OPENAI_API_KEY\"] = \"None\"\n",
    "os.environ[\"OPENAI_API_BASE\"] = \"http://10.58.0.2:8000/v1\"\n",
    "# llm_completion = OpenAI(model_name=\"Qwen2.5-14B\") \n",
    "# llm_chat = OpenAIChat(model_name=\"Qwen2.5-14B\")\n",
    "llm = ChatOpenAI(temperature=0, model=llm_model)\n"
   ]
  },
  {
   "cell_type": "code",
   "execution_count": 13,
   "metadata": {},
   "outputs": [],
   "source": [
    "import langchain\n",
    "langchain.debug = True\n",
    "from langchain.agents import load_tools, initialize_agent\n",
    "from langchain.agents import AgentType\n",
    "\n",
    "# tools = load_tools(['llm-math'],llm=llm)\n",
    "tools = load_tools([\"llm-math\"], llm=llm) \n",
    "\n",
    "agent= initialize_agent(\n",
    "    tools+[filter_course], \n",
    "    llm, \n",
    "    agent=AgentType.CHAT_ZERO_SHOT_REACT_DESCRIPTION,\n",
    "    handle_parsing_errors=True,\n",
    "    verbose = True)"
   ]
  },
  {
   "cell_type": "markdown",
   "metadata": {},
   "source": [
    "## 用户查询课程\n",
    "\n",
    "可查询选修或者必修"
   ]
  },
  {
   "cell_type": "code",
   "execution_count": 17,
   "metadata": {},
   "outputs": [],
   "source": [
    "user_course_type_question = \"有哪些是必修课?\""
   ]
  },
  {
   "cell_type": "code",
   "execution_count": 18,
   "metadata": {},
   "outputs": [
    {
     "name": "stdout",
     "output_type": "stream",
     "text": [
      "\u001b[32;1m\u001b[1;3m[chain/start]\u001b[0m \u001b[1m[chain:AgentExecutor] Entering Chain run with input:\n",
      "\u001b[0m{\n",
      "  \"input\": \"\\n        filter the course list,there two kinds of courses\\n        first is required,second is elective \\n        should baded on users input to filter the correct courses\\n\\n        <<< COURSE DICT >>>\\n\\n        {'required': ['software energening', 'machine learning', 'math', 'physical'], 'elective': ['tennis', 'table tennis', 'football']}\\n\\n        <<< USER INPUT >>>\\n\\n        有哪些是必修课?\\n    \"\n",
      "}\n",
      "\u001b[32;1m\u001b[1;3m[chain/start]\u001b[0m \u001b[1m[chain:AgentExecutor > chain:LLMChain] Entering Chain run with input:\n",
      "\u001b[0m{\n",
      "  \"input\": \"\\n        filter the course list,there two kinds of courses\\n        first is required,second is elective \\n        should baded on users input to filter the correct courses\\n\\n        <<< COURSE DICT >>>\\n\\n        {'required': ['software energening', 'machine learning', 'math', 'physical'], 'elective': ['tennis', 'table tennis', 'football']}\\n\\n        <<< USER INPUT >>>\\n\\n        有哪些是必修课?\\n    \",\n",
      "  \"agent_scratchpad\": \"\",\n",
      "  \"stop\": [\n",
      "    \"Observation:\"\n",
      "  ]\n",
      "}\n",
      "\u001b[32;1m\u001b[1;3m[llm/start]\u001b[0m \u001b[1m[chain:AgentExecutor > chain:LLMChain > llm:ChatOpenAI] Entering LLM run with input:\n",
      "\u001b[0m{\n",
      "  \"prompts\": [\n",
      "    \"System: Answer the following questions as best you can. You have access to the following tools:\\n\\nCalculator: Useful for when you need to answer questions about math.\\nfilter_course: return course list, use this for filtering courses,\\nthere two kinds of courses: required , elective\\nthe input is string type and the content should be required or elective\\nthe function will return the course list\\n\\nThe way you use the tools is by specifying a json blob.\\nSpecifically, this json should have a `action` key (with the name of the tool to use) and a `action_input` key (with the input to the tool going here).\\n\\nThe only values that should be in the \\\"action\\\" field are: Calculator, filter_course\\n\\nThe $JSON_BLOB should only contain a SINGLE action, do NOT return a list of multiple actions. Here is an example of a valid $JSON_BLOB:\\n\\n```\\n{\\n  \\\"action\\\": $TOOL_NAME,\\n  \\\"action_input\\\": $INPUT\\n}\\n```\\n\\nALWAYS use the following format:\\n\\nQuestion: the input question you must answer\\nThought: you should always think about what to do\\nAction:\\n```\\n$JSON_BLOB\\n```\\nObservation: the result of the action\\n... (this Thought/Action/Observation can repeat N times)\\nThought: I now know the final answer\\nFinal Answer: the final answer to the original input question\\n\\nBegin! Reminder to always use the exact characters `Final Answer` when responding.\\nHuman: \\n        filter the course list,there two kinds of courses\\n        first is required,second is elective \\n        should baded on users input to filter the correct courses\\n\\n        <<< COURSE DICT >>>\\n\\n        {'required': ['software energening', 'machine learning', 'math', 'physical'], 'elective': ['tennis', 'table tennis', 'football']}\\n\\n        <<< USER INPUT >>>\\n\\n        有哪些是必修课?\"\n",
      "  ]\n",
      "}\n",
      "\u001b[36;1m\u001b[1;3m[llm/end]\u001b[0m \u001b[1m[chain:AgentExecutor > chain:LLMChain > llm:ChatOpenAI] [1.54s] Exiting LLM run with output:\n",
      "\u001b[0m{\n",
      "  \"generations\": [\n",
      "    [\n",
      "      {\n",
      "        \"text\": \"Question: the input question you must answer\\nThought: I need to filter the course list based on the user's input, which is \\\"required\\\".\\nAction:\\n```\\n{\\n  \\\"action\\\": \\\"filter_course\\\",\\n  \\\"action_input\\\": \\\"required\\\"\\n}\\n```\\n\",\n",
      "        \"generation_info\": {\n",
      "          \"finish_reason\": \"stop\",\n",
      "          \"logprobs\": null\n",
      "        },\n",
      "        \"type\": \"ChatGeneration\",\n",
      "        \"message\": {\n",
      "          \"lc\": 1,\n",
      "          \"type\": \"constructor\",\n",
      "          \"id\": [\n",
      "            \"langchain\",\n",
      "            \"schema\",\n",
      "            \"messages\",\n",
      "            \"AIMessage\"\n",
      "          ],\n",
      "          \"kwargs\": {\n",
      "            \"content\": \"Question: the input question you must answer\\nThought: I need to filter the course list based on the user's input, which is \\\"required\\\".\\nAction:\\n```\\n{\\n  \\\"action\\\": \\\"filter_course\\\",\\n  \\\"action_input\\\": \\\"required\\\"\\n}\\n```\\n\",\n",
      "            \"response_metadata\": {\n",
      "              \"token_usage\": {\n",
      "                \"prompt_tokens\": 405,\n",
      "                \"total_tokens\": 462,\n",
      "                \"completion_tokens\": 57\n",
      "              },\n",
      "              \"model_name\": \"Qwen2.5-14B\",\n",
      "              \"system_fingerprint\": \"\",\n",
      "              \"finish_reason\": \"stop\",\n",
      "              \"logprobs\": null\n",
      "            },\n",
      "            \"type\": \"ai\",\n",
      "            \"id\": \"run-f36d7664-49e7-405d-9a6c-60931595db66-0\",\n",
      "            \"tool_calls\": [],\n",
      "            \"invalid_tool_calls\": []\n",
      "          }\n",
      "        }\n",
      "      }\n",
      "    ]\n",
      "  ],\n",
      "  \"llm_output\": {\n",
      "    \"token_usage\": {\n",
      "      \"prompt_tokens\": 405,\n",
      "      \"total_tokens\": 462,\n",
      "      \"completion_tokens\": 57\n",
      "    },\n",
      "    \"model_name\": \"Qwen2.5-14B\",\n",
      "    \"system_fingerprint\": \"\"\n",
      "  },\n",
      "  \"run\": null,\n",
      "  \"type\": \"LLMResult\"\n",
      "}\n",
      "\u001b[36;1m\u001b[1;3m[chain/end]\u001b[0m \u001b[1m[chain:AgentExecutor > chain:LLMChain] [1.54s] Exiting Chain run with output:\n",
      "\u001b[0m{\n",
      "  \"text\": \"Question: the input question you must answer\\nThought: I need to filter the course list based on the user's input, which is \\\"required\\\".\\nAction:\\n```\\n{\\n  \\\"action\\\": \\\"filter_course\\\",\\n  \\\"action_input\\\": \\\"required\\\"\\n}\\n```\\n\"\n",
      "}\n",
      "\u001b[32;1m\u001b[1;3m[tool/start]\u001b[0m \u001b[1m[chain:AgentExecutor > tool:filter_course] Entering Tool run with input:\n",
      "\u001b[0m\"required\"\n",
      "\u001b[36;1m\u001b[1;3m[tool/end]\u001b[0m \u001b[1m[chain:AgentExecutor > tool:filter_course] [0ms] Exiting Tool run with output:\n",
      "\u001b[0m\"['software energening', 'machine learning', 'math', 'physical']\"\n",
      "\u001b[32;1m\u001b[1;3m[chain/start]\u001b[0m \u001b[1m[chain:AgentExecutor > chain:LLMChain] Entering Chain run with input:\n",
      "\u001b[0m{\n",
      "  \"input\": \"\\n        filter the course list,there two kinds of courses\\n        first is required,second is elective \\n        should baded on users input to filter the correct courses\\n\\n        <<< COURSE DICT >>>\\n\\n        {'required': ['software energening', 'machine learning', 'math', 'physical'], 'elective': ['tennis', 'table tennis', 'football']}\\n\\n        <<< USER INPUT >>>\\n\\n        有哪些是必修课?\\n    \",\n",
      "  \"agent_scratchpad\": \"This was your previous work (but I haven't seen any of it! I only see what you return as final answer):\\nQuestion: the input question you must answer\\nThought: I need to filter the course list based on the user's input, which is \\\"required\\\".\\nAction:\\n```\\n{\\n  \\\"action\\\": \\\"filter_course\\\",\\n  \\\"action_input\\\": \\\"required\\\"\\n}\\n```\\n\\nObservation: ['software energening', 'machine learning', 'math', 'physical']\\nThought:\",\n",
      "  \"stop\": [\n",
      "    \"Observation:\"\n",
      "  ]\n",
      "}\n",
      "\u001b[32;1m\u001b[1;3m[llm/start]\u001b[0m \u001b[1m[chain:AgentExecutor > chain:LLMChain > llm:ChatOpenAI] Entering LLM run with input:\n",
      "\u001b[0m{\n",
      "  \"prompts\": [\n",
      "    \"System: Answer the following questions as best you can. You have access to the following tools:\\n\\nCalculator: Useful for when you need to answer questions about math.\\nfilter_course: return course list, use this for filtering courses,\\nthere two kinds of courses: required , elective\\nthe input is string type and the content should be required or elective\\nthe function will return the course list\\n\\nThe way you use the tools is by specifying a json blob.\\nSpecifically, this json should have a `action` key (with the name of the tool to use) and a `action_input` key (with the input to the tool going here).\\n\\nThe only values that should be in the \\\"action\\\" field are: Calculator, filter_course\\n\\nThe $JSON_BLOB should only contain a SINGLE action, do NOT return a list of multiple actions. Here is an example of a valid $JSON_BLOB:\\n\\n```\\n{\\n  \\\"action\\\": $TOOL_NAME,\\n  \\\"action_input\\\": $INPUT\\n}\\n```\\n\\nALWAYS use the following format:\\n\\nQuestion: the input question you must answer\\nThought: you should always think about what to do\\nAction:\\n```\\n$JSON_BLOB\\n```\\nObservation: the result of the action\\n... (this Thought/Action/Observation can repeat N times)\\nThought: I now know the final answer\\nFinal Answer: the final answer to the original input question\\n\\nBegin! Reminder to always use the exact characters `Final Answer` when responding.\\nHuman: \\n        filter the course list,there two kinds of courses\\n        first is required,second is elective \\n        should baded on users input to filter the correct courses\\n\\n        <<< COURSE DICT >>>\\n\\n        {'required': ['software energening', 'machine learning', 'math', 'physical'], 'elective': ['tennis', 'table tennis', 'football']}\\n\\n        <<< USER INPUT >>>\\n\\n        有哪些是必修课?\\n    \\n\\nThis was your previous work (but I haven't seen any of it! I only see what you return as final answer):\\nQuestion: the input question you must answer\\nThought: I need to filter the course list based on the user's input, which is \\\"required\\\".\\nAction:\\n```\\n{\\n  \\\"action\\\": \\\"filter_course\\\",\\n  \\\"action_input\\\": \\\"required\\\"\\n}\\n```\\n\\nObservation: ['software energening', 'machine learning', 'math', 'physical']\\nThought:\"\n",
      "  ]\n",
      "}\n",
      "\u001b[36;1m\u001b[1;3m[llm/end]\u001b[0m \u001b[1m[chain:AgentExecutor > chain:LLMChain > llm:ChatOpenAI] [793ms] Exiting LLM run with output:\n",
      "\u001b[0m{\n",
      "  \"generations\": [\n",
      "    [\n",
      "      {\n",
      "        \"text\": \"I now know the list of required courses.\\nFinal Answer: 必修课有：软件工程、机器学习、数学、物理。\",\n",
      "        \"generation_info\": {\n",
      "          \"finish_reason\": \"stop\",\n",
      "          \"logprobs\": null\n",
      "        },\n",
      "        \"type\": \"ChatGeneration\",\n",
      "        \"message\": {\n",
      "          \"lc\": 1,\n",
      "          \"type\": \"constructor\",\n",
      "          \"id\": [\n",
      "            \"langchain\",\n",
      "            \"schema\",\n",
      "            \"messages\",\n",
      "            \"AIMessage\"\n",
      "          ],\n",
      "          \"kwargs\": {\n",
      "            \"content\": \"I now know the list of required courses.\\nFinal Answer: 必修课有：软件工程、机器学习、数学、物理。\",\n",
      "            \"response_metadata\": {\n",
      "              \"token_usage\": {\n",
      "                \"prompt_tokens\": 504,\n",
      "                \"total_tokens\": 533,\n",
      "                \"completion_tokens\": 29\n",
      "              },\n",
      "              \"model_name\": \"Qwen2.5-14B\",\n",
      "              \"system_fingerprint\": \"\",\n",
      "              \"finish_reason\": \"stop\",\n",
      "              \"logprobs\": null\n",
      "            },\n",
      "            \"type\": \"ai\",\n",
      "            \"id\": \"run-9b24e44e-844d-4a51-81fb-bc1d083dd358-0\",\n",
      "            \"tool_calls\": [],\n",
      "            \"invalid_tool_calls\": []\n",
      "          }\n",
      "        }\n",
      "      }\n",
      "    ]\n",
      "  ],\n",
      "  \"llm_output\": {\n",
      "    \"token_usage\": {\n",
      "      \"prompt_tokens\": 504,\n",
      "      \"total_tokens\": 533,\n",
      "      \"completion_tokens\": 29\n",
      "    },\n",
      "    \"model_name\": \"Qwen2.5-14B\",\n",
      "    \"system_fingerprint\": \"\"\n",
      "  },\n",
      "  \"run\": null,\n",
      "  \"type\": \"LLMResult\"\n",
      "}\n",
      "\u001b[36;1m\u001b[1;3m[chain/end]\u001b[0m \u001b[1m[chain:AgentExecutor > chain:LLMChain] [794ms] Exiting Chain run with output:\n",
      "\u001b[0m{\n",
      "  \"text\": \"I now know the list of required courses.\\nFinal Answer: 必修课有：软件工程、机器学习、数学、物理。\"\n",
      "}\n",
      "\u001b[36;1m\u001b[1;3m[chain/end]\u001b[0m \u001b[1m[chain:AgentExecutor] [2.34s] Exiting Chain run with output:\n",
      "\u001b[0m{\n",
      "  \"output\": \"必修课有：软件工程、机器学习、数学、物理。\"\n",
      "}\n"
     ]
    },
    {
     "data": {
      "text/plain": [
       "'必修课有：软件工程、机器学习、数学、物理。'"
      ]
     },
     "execution_count": 18,
     "metadata": {},
     "output_type": "execute_result"
    }
   ],
   "source": [
    "agent.run(\n",
    "    f\"\"\"\n",
    "        filter the course list,there two kinds of courses\n",
    "        first is required,second is elective \n",
    "        should baded on users input to filter the correct courses\n",
    "\n",
    "        <<< COURSE DICT >>>\n",
    "\n",
    "        {course_dict}\n",
    "\n",
    "        <<< USER INPUT >>>\n",
    "\n",
    "        {user_course_type_question}\n",
    "    \"\"\"\n",
    ")"
   ]
  },
  {
   "cell_type": "code",
   "execution_count": null,
   "metadata": {},
   "outputs": [],
   "source": []
  }
 ],
 "metadata": {
  "kernelspec": {
   "display_name": "d2lc",
   "language": "python",
   "name": "python3"
  },
  "language_info": {
   "codemirror_mode": {
    "name": "ipython",
    "version": 3
   },
   "file_extension": ".py",
   "mimetype": "text/x-python",
   "name": "python",
   "nbconvert_exporter": "python",
   "pygments_lexer": "ipython3",
   "version": "3.9.21"
  }
 },
 "nbformat": 4,
 "nbformat_minor": 2
}
